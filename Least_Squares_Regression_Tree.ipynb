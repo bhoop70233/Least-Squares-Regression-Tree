{
  "nbformat": 4,
  "nbformat_minor": 0,
  "metadata": {
    "colab": {
      "provenance": [],
      "authorship_tag": "ABX9TyPVZY0vu7GF6gYnXtixsRj5",
      "include_colab_link": true
    },
    "kernelspec": {
      "name": "python3",
      "display_name": "Python 3"
    },
    "language_info": {
      "name": "python"
    }
  },
  "cells": [
    {
      "cell_type": "markdown",
      "metadata": {
        "id": "view-in-github",
        "colab_type": "text"
      },
      "source": [
        "<a href=\"https://colab.research.google.com/github/bhoop70233/Least-Squares-Regression-Tree/blob/main/Least_Squares_Regression_Tree.ipynb\" target=\"_parent\"><img src=\"https://colab.research.google.com/assets/colab-badge.svg\" alt=\"Open In Colab\"/></a>"
      ]
    },
    {
      "cell_type": "code",
      "source": [
        "import numpy as np\n"
      ],
      "metadata": {
        "id": "ZYby21awG9vu"
      },
      "execution_count": 7,
      "outputs": []
    },
    {
      "cell_type": "code",
      "source": [
        "import numpy as np\n",
        "\n",
        "class Node:\n",
        "    def __init__(self, region, depth=0):\n",
        "        self.region = region\n",
        "        self.depth = depth\n",
        "        self.split_feature = None\n",
        "        self.split_value = None\n",
        "        self.left = None\n",
        "        self.right = None\n",
        "        self.prediction = None\n",
        "\n",
        "def mse(region):\n",
        "    if len(region) == 0:\n",
        "        return 0\n",
        "    mean_value = np.mean([y for _, y in region])\n",
        "    return sum((y - mean_value) ** 2 for _, y in region)\n",
        "\n",
        "def find_best_split(data):\n",
        "    best_feature = None\n",
        "    best_split = None\n",
        "    best_mse = float('inf')\n",
        "    best_regions = None\n",
        "\n",
        "    for feature in range(len(data[0][0])):\n",
        "        sorted_data = sorted(data, key=lambda x: x[0][feature])\n",
        "        for i in range(1, len(sorted_data)):\n",
        "            if sorted_data[i-1][0][feature] == sorted_data[i][0][feature]:\n",
        "                continue\n",
        "            split_value = (sorted_data[i-1][0][feature] + sorted_data[i][0][feature]) / 2\n",
        "            left_region = sorted_data[:i]\n",
        "            right_region = sorted_data[i:]\n",
        "            current_mse = mse(left_region) + mse(right_region)\n",
        "\n",
        "            if current_mse < best_mse:\n",
        "                best_mse = current_mse\n",
        "                best_feature = feature\n",
        "                best_split = split_value\n",
        "                best_regions = (left_region, right_region)\n",
        "\n",
        "    return best_feature, best_split, best_regions\n",
        "\n",
        "def build_tree(data, max_depth=float('inf'), min_samples_split=2):\n",
        "    root = Node(data)\n",
        "    nodes = [root]\n",
        "\n",
        "    while nodes:\n",
        "        node = nodes.pop()\n",
        "        if node.depth >= max_depth or len(node.region) < min_samples_split:\n",
        "            node.prediction = np.mean([y for _, y in node.region])\n",
        "            continue\n",
        "\n",
        "        feature, split_value, regions = find_best_split(node.region)\n",
        "        if regions is None:\n",
        "            node.prediction = np.mean([y for _, y in node.region])\n",
        "            continue\n",
        "\n",
        "        node.split_feature = feature\n",
        "        node.split_value = split_value\n",
        "        node.left = Node(regions[0], node.depth + 1)\n",
        "        node.right = Node(regions[1], node.depth + 1)\n",
        "\n",
        "        nodes.append(node.left)\n",
        "        nodes.append(node.right)\n",
        "\n",
        "    return root\n",
        "\n",
        "def predict(tree, x):\n",
        "    node = tree\n",
        "    while node.left and node.right:\n",
        "        if x[node.split_feature] <= node.split_value:\n",
        "            node = node.left\n",
        "        else:\n",
        "            node = node.right\n",
        "    return node.prediction\n",
        "\n",
        "# Example usage\n",
        "training_data = [\n",
        "    (np.array([2.5]), 5.0),\n",
        "    (np.array([5.1]), 7.5),\n",
        "    (np.array([3.3]), 6.2),\n",
        "    (np.array([4.7]), 8.1),\n",
        "    (np.array([1.8]), 3.9)\n",
        "]\n",
        "\n",
        "tree = build_tree(training_data)\n",
        "test_point = np.array([4.0])\n",
        "prediction = predict(tree, test_point)\n",
        "print(f\"Prediction for {test_point}: {prediction}\")\n"
      ],
      "metadata": {
        "colab": {
          "base_uri": "https://localhost:8080/"
        },
        "id": "ez4G3FWzHHil",
        "outputId": "37a53310-e996-42d8-c3ef-11b87d22d7a8"
      },
      "execution_count": 9,
      "outputs": [
        {
          "output_type": "stream",
          "name": "stdout",
          "text": [
            "Prediction for [4.]: 6.2\n"
          ]
        }
      ]
    },
    {
      "cell_type": "code",
      "source": [],
      "metadata": {
        "id": "OpUgbI8tHlX-"
      },
      "execution_count": null,
      "outputs": []
    }
  ]
}